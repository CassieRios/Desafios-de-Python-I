{
  "cells": [
    {
      "cell_type": "markdown",
      "metadata": {
        "id": "x7-T3diYOGg7"
      },
      "source": [
        "## Problemas para treinar python"
      ]
    },
    {
      "cell_type": "markdown",
      "metadata": {
        "id": "qjLizbjuOGhB"
      },
      "source": [
        "### Par ou ímpar <br>\n",
        "Escreva um programa que peça um número ao usuário e diga se é par ou ímpar"
      ]
    },
    {
      "cell_type": "code",
      "execution_count": 1,
      "metadata": {
        "id": "l8F6FyXDOGhC",
        "outputId": "e649fccb-a060-4f2f-f06a-781c3f1d22f5",
        "colab": {
          "base_uri": "https://localhost:8080/"
        }
      },
      "outputs": [
        {
          "output_type": "stream",
          "name": "stdout",
          "text": [
            "Posso te dizer se um número é par ou ímpar. Quer tentar? Então digite um número e tecle enter: 5\n",
            "É ímpar.\n"
          ]
        }
      ],
      "source": [
        "num = int(input(\"Posso te dizer se um número é par ou ímpar. Quer tentar? Então digite um número e tecle enter: \"))\n",
        "if num % 2:\n",
        "    print(\"É ímpar.\")\n",
        "else:\n",
        "    print(\"É par.\")"
      ]
    },
    {
      "cell_type": "markdown",
      "metadata": {
        "id": "uXXEBoRGZ6ei"
      },
      "source": [
        "✅ Pontos fortes\n",
        "\n",
        "Simples e direto.\n",
        "\n",
        "Uso do operador % de forma correta.\n",
        "\n",
        "Mensagens claras para o usuário.\n",
        "\n",
        "⚠️ Pontos fracos\n",
        "\n",
        "Poderia ser mais legível se invertesse a ordem (usar == 0).\n",
        "\n",
        "Repetição de print (mesmo comando, só muda o texto).\n",
        "\n",
        "Não trata entradas inválidas."
      ]
    },
    {
      "cell_type": "markdown",
      "metadata": {
        "id": "cmAuoPtBZ6ei"
      },
      "source": [
        "🔄 Refatoração"
      ]
    },
    {
      "cell_type": "code",
      "execution_count": 2,
      "metadata": {
        "colab": {
          "base_uri": "https://localhost:8080/"
        },
        "id": "OA5VGzxzZ6ei",
        "outputId": "6432f57f-cadc-4c90-a92d-926d0c888640"
      },
      "outputs": [
        {
          "output_type": "stream",
          "name": "stdout",
          "text": [
            "Digite um número: 5\n",
            "É ímpar.\n"
          ]
        }
      ],
      "source": [
        "try:\n",
        "    num = int(input(\"Digite um número: \"))\n",
        "    print(\"É par.\" if num % 2 == 0 else \"É ímpar.\")\n",
        "except ValueError:\n",
        "    print(\"Entrada inválida. Digite um número inteiro.\")\n"
      ]
    },
    {
      "cell_type": "markdown",
      "metadata": {
        "id": "ICqhymo9Z6ej"
      },
      "source": [
        "⚡ Forma alternativa mais eficiente"
      ]
    },
    {
      "cell_type": "code",
      "execution_count": 3,
      "metadata": {
        "colab": {
          "base_uri": "https://localhost:8080/"
        },
        "id": "CYk7JHaJZ6ej",
        "outputId": "a6f273a9-482a-4183-89ad-ffd0c8445c6b"
      },
      "outputs": [
        {
          "output_type": "stream",
          "name": "stdout",
          "text": [
            "Digite um número: 5\n",
            "É ímpar.\n"
          ]
        }
      ],
      "source": [
        "print(\"É par.\" if int(input(\"Digite um número: \")) % 2 == 0 else \"É ímpar.\")\n"
      ]
    },
    {
      "cell_type": "markdown",
      "metadata": {
        "id": "osRdPPLJOGhG"
      },
      "source": [
        "### Contador de vogais <br>\n",
        "Peça uma string ao usuário e conte quantas vogais (a, e, i, o, u) existem nela."
      ]
    },
    {
      "cell_type": "code",
      "execution_count": 4,
      "metadata": {
        "id": "L6I0apL4OGhI",
        "outputId": "b56a84c0-ecf9-4754-f3fd-6211b813776c",
        "colab": {
          "base_uri": "https://localhost:8080/"
        }
      },
      "outputs": [
        {
          "output_type": "stream",
          "name": "stdout",
          "text": [
            "Quer saber quantas vogais há em um texto?\n",
            "Então manda ele aqui que eu te digo.Não quero sair de casa.\n",
            "Esse texto tem 10 vogais.\n"
          ]
        }
      ],
      "source": [
        "import unicodedata\n",
        "\n",
        "texto = input(\"Quer saber quantas vogais há em um texto?\\nEntão manda ele aqui que eu te digo.\")\n",
        "vogais = \"aeiou\"\n",
        "caracteres = [c for c in unicodedata.normalize(\"NFKD\", texto.lower())]\n",
        "quantidade_vogais = sum(1 for c in caracteres if c in vogais)\n",
        "\n",
        "print(f\"Esse texto tem {quantidade_vogais} vogais.\")\n"
      ]
    },
    {
      "cell_type": "markdown",
      "metadata": {
        "id": "zlpJD8HVZ6ek"
      },
      "source": [
        "✅ Pontos fortes\n",
        "\n",
        "Código legível e bem organizado.\n",
        "\n",
        "Uso correto de unicodedata.normalize para lidar com acentos.\n",
        "\n",
        "Boa mensagem de interação com o usuário.\n",
        "\n",
        "⚠️ Pontos fracos\n",
        "\n",
        "Normalização não remove acentos explicitamente (´ ainda está presente).\n",
        "\n",
        "Lista intermediária (caracteres) é desnecessária.\n",
        "\n",
        "Pode ser escrito de forma mais enxuta sem perder clareza."
      ]
    },
    {
      "cell_type": "markdown",
      "metadata": {
        "id": "5OYEggFwZ6ek"
      },
      "source": [
        "🔄 Refatoração"
      ]
    },
    {
      "cell_type": "code",
      "execution_count": 5,
      "metadata": {
        "colab": {
          "base_uri": "https://localhost:8080/"
        },
        "id": "K8kauDjZZ6ek",
        "outputId": "22238c84-d525-4b23-9c4d-1c5df3a0ba3b"
      },
      "outputs": [
        {
          "output_type": "stream",
          "name": "stdout",
          "text": [
            "Quer saber quantas vogais há em um texto?\n",
            "Digite aqui: Não quero sair de casa.\n",
            "Esse texto tem 10 vogais.\n"
          ]
        }
      ],
      "source": [
        "import unicodedata\n",
        "\n",
        "texto = input(\"Quer saber quantas vogais há em um texto?\\nDigite aqui: \")\n",
        "vogais = \"aeiou\"\n",
        "texto_normalizado = \"\".join(\n",
        "    c for c in unicodedata.normalize(\"NFKD\", texto.lower())\n",
        "    if not unicodedata.combining(c)\n",
        ")\n",
        "quantidade_vogais = sum(1 for c in texto_normalizado if c in vogais)\n",
        "\n",
        "print(f\"Esse texto tem {quantidade_vogais} vogais.\")\n"
      ]
    },
    {
      "cell_type": "markdown",
      "metadata": {
        "id": "KxOf5N5jZ6ek"
      },
      "source": [
        "⚡ Forma alternativa mais eficiente"
      ]
    },
    {
      "cell_type": "code",
      "execution_count": 6,
      "metadata": {
        "colab": {
          "base_uri": "https://localhost:8080/"
        },
        "id": "K-nzKt2lZ6ek",
        "outputId": "a51160c1-66ba-437d-d188-388ea5ad94e6"
      },
      "outputs": [
        {
          "output_type": "stream",
          "name": "stdout",
          "text": [
            "Digite um texto: Não quero sair de casa.\n",
            "Esse texto tem 10 vogais.\n"
          ]
        }
      ],
      "source": [
        "import unicodedata\n",
        "\n",
        "print(\n",
        "    f\"Esse texto tem {sum(1 for c in unicodedata.normalize('NFKD', input('Digite um texto: ').lower()) if not unicodedata.combining(c) and c in 'aeiou')} vogais.\"\n",
        ")\n"
      ]
    },
    {
      "cell_type": "markdown",
      "metadata": {
        "id": "rEPGONK9OGhJ"
      },
      "source": [
        "### Maior número: <br>\n",
        "Receba uma lista de números e encontre o maior valor sem usar `max()`"
      ]
    },
    {
      "cell_type": "code",
      "execution_count": 7,
      "metadata": {
        "id": "CzWR7FwPOGhK",
        "outputId": "f956b65a-46d7-4776-da8d-521d1579d630",
        "colab": {
          "base_uri": "https://localhost:8080/"
        }
      },
      "outputs": [
        {
          "output_type": "stream",
          "name": "stdout",
          "text": [
            "Quer saber qual o maior número dentre vários outros?\n",
            "Então manda a lista pra mim. Ah, e separe os número por vígula.\n",
            "1, 2, 3, 1, 4, 2, 6, 7, 2, 8, 7\n",
            "O maior número dessa lista é 8.0.\n"
          ]
        }
      ],
      "source": [
        "lista_str = input(\"Quer saber qual o maior número dentre vários outros?\\nEntão manda a lista pra mim. Ah, e separe os número por vígula.\\n\").split(\",\")\n",
        "lista_num = [float(num.strip()) for num in lista_str]\n",
        "max_num = sorted(lista_num)[-1]\n",
        "print(f\"O maior número dessa lista é {max_num}.\")"
      ]
    },
    {
      "cell_type": "markdown",
      "metadata": {
        "id": "EIhtjhXNZ6el"
      },
      "source": [
        "✅ Pontos fortes\n",
        "\n",
        "Código claro e fácil de entender.\n",
        "\n",
        "Remove espaços antes da conversão com .strip().\n",
        "\n",
        "Resolve o problema sem usar max(), conforme pedido.\n",
        "\n",
        "⚠️ Pontos fracos\n",
        "\n",
        "sorted() ordena toda a lista, o que é ineficiente para apenas achar o maior.\n",
        "\n",
        "Falta tratamento para lista vazia ou valores inválidos.\n",
        "\n",
        "Interação com usuário um pouco longa."
      ]
    },
    {
      "cell_type": "markdown",
      "metadata": {
        "id": "k_URXQlGZ6el"
      },
      "source": [
        "🔄 Refatoração (sem max(), mas mais eficiente que sorted)"
      ]
    },
    {
      "cell_type": "code",
      "execution_count": 8,
      "metadata": {
        "colab": {
          "base_uri": "https://localhost:8080/"
        },
        "id": "mqVUspOFZ6el",
        "outputId": "04dd688a-11b6-4cd1-a914-657adbbe3507"
      },
      "outputs": [
        {
          "output_type": "stream",
          "name": "stdout",
          "text": [
            "Digite números separados por vírgula: 1, 2, 3, 1, 4, 2, 6, 7, 2, 8, 7\n",
            "O maior número dessa lista é 8.0.\n"
          ]
        }
      ],
      "source": [
        "try:\n",
        "    lista_str = input(\"Digite números separados por vírgula: \").split(\",\")\n",
        "    lista_num = [float(num.strip()) for num in lista_str]\n",
        "\n",
        "    if not lista_num:\n",
        "        print(\"A lista está vazia.\")\n",
        "    else:\n",
        "        maior = lista_num[0]\n",
        "        for n in lista_num[1:]:\n",
        "            if n > maior:\n",
        "                maior = n\n",
        "        print(f\"O maior número dessa lista é {maior}.\")\n",
        "except ValueError:\n",
        "    print(\"Entrada inválida. Digite apenas números separados por vírgula.\")\n"
      ]
    },
    {
      "cell_type": "markdown",
      "metadata": {
        "id": "uw-83TGRZ6el"
      },
      "source": [
        "⚡ Forma alternativa mais eficiente"
      ]
    },
    {
      "cell_type": "code",
      "execution_count": 9,
      "metadata": {
        "colab": {
          "base_uri": "https://localhost:8080/"
        },
        "id": "jVR-l2v6Z6el",
        "outputId": "911060d8-e706-4999-f201-be4fbae2415a"
      },
      "outputs": [
        {
          "output_type": "stream",
          "name": "stdout",
          "text": [
            "Digite números separados por vírgula: 1, 2, 3, 1, 4, 2, 6, 7, 2, 8, 7\n",
            "O maior número é 8.0\n"
          ]
        }
      ],
      "source": [
        "nums = [float(n) for n in input(\"Digite números separados por vírgula: \").split(\",\")]\n",
        "print(f\"O maior número é {max(nums, key=float)}\")\n"
      ]
    },
    {
      "cell_type": "markdown",
      "metadata": {
        "id": "y0SWux-JOGhL"
      },
      "source": [
        "### Tabuada formatada <br>\n",
        "Peça um número ao usuário e mostre a tabuada de 1 a 10 desse número."
      ]
    },
    {
      "cell_type": "code",
      "execution_count": 10,
      "metadata": {
        "id": "gW6U2y_bOGhM",
        "outputId": "b4ee7ebe-1835-4b29-96a0-5e257a3da421",
        "colab": {
          "base_uri": "https://localhost:8080/"
        }
      },
      "outputs": [
        {
          "output_type": "stream",
          "name": "stdout",
          "text": [
            "Quer saber a tabuada de um número?\n",
            "Então manda ele aqui (use . para separar as casas decimais, se for o caso).\n",
            "5.9\n",
            "Tabuada de 5.9\n",
            "\n",
            "5.9 x 0 = 0.0\n",
            "5.9 x 1 = 5.9\n",
            "5.9 x 2 = 11.8\n",
            "5.9 x 3 = 17.7\n",
            "5.9 x 4 = 23.6\n",
            "5.9 x 5 = 29.5\n",
            "5.9 x 6 = 35.4\n",
            "5.9 x 7 = 41.3\n",
            "5.9 x 8 = 47.2\n",
            "5.9 x 9 = 53.1\n",
            "5.9 x 10 = 59.0\n"
          ]
        }
      ],
      "source": [
        "num = round(float(input(\"Quer saber a tabuada de um número?\\nEntão manda ele aqui (use . para separar as casas decimais, se for o caso).\\n\")), 2)\n",
        "print(f\"Tabuada de {num}\\n\")\n",
        "for parcela in range(0, 11):\n",
        "    print(f\"{num} x {parcela} = {round(num*parcela, 2)}\")"
      ]
    },
    {
      "cell_type": "markdown",
      "metadata": {
        "id": "Dt3Ehl5DZ6em"
      },
      "source": [
        "✅ Pontos fortes\n",
        "\n",
        "Aceita números decimais, não só inteiros.\n",
        "\n",
        "Usa round para manter consistência nas casas decimais.\n",
        "\n",
        "Estrutura de repetição bem clara.\n",
        "\n",
        "⚠️ Pontos fracos\n",
        "\n",
        "round aplicado na entrada não é necessário (pode arredondar só na saída).\n",
        "\n",
        "Cabeçalho da tabuada poderia ter espaçamento melhorado.\n",
        "\n",
        "Resultado pode ficar com formatação inconsistente (ex.: 2.0 em vez de 2.00)."
      ]
    },
    {
      "cell_type": "markdown",
      "metadata": {
        "id": "JP9wm-EsZ6em"
      },
      "source": [
        "🔄 Refatoração"
      ]
    },
    {
      "cell_type": "code",
      "execution_count": 11,
      "metadata": {
        "colab": {
          "base_uri": "https://localhost:8080/"
        },
        "id": "j7--YkUUZ6em",
        "outputId": "5fe42028-2bf6-4b27-b15c-7e3a0fc93113"
      },
      "outputs": [
        {
          "output_type": "stream",
          "name": "stdout",
          "text": [
            "Digite um número para ver a tabuada: 5.9\n",
            "\n",
            "Tabuada de 5.90\n",
            "\n",
            "5.90 x  0 = 0.00\n",
            "5.90 x  1 = 5.90\n",
            "5.90 x  2 = 11.80\n",
            "5.90 x  3 = 17.70\n",
            "5.90 x  4 = 23.60\n",
            "5.90 x  5 = 29.50\n",
            "5.90 x  6 = 35.40\n",
            "5.90 x  7 = 41.30\n",
            "5.90 x  8 = 47.20\n",
            "5.90 x  9 = 53.10\n",
            "5.90 x 10 = 59.00\n"
          ]
        }
      ],
      "source": [
        "num = float(input(\"Digite um número para ver a tabuada: \"))\n",
        "print(f\"\\nTabuada de {num:.2f}\\n\")\n",
        "for i in range(11):\n",
        "    print(f\"{num:.2f} x {i:2} = {num * i:.2f}\")\n"
      ]
    },
    {
      "cell_type": "markdown",
      "metadata": {
        "id": "Cp-hGX1yZ6en"
      },
      "source": [
        "⚡ Forma alternativa mais eficiente"
      ]
    },
    {
      "cell_type": "code",
      "execution_count": 12,
      "metadata": {
        "colab": {
          "base_uri": "https://localhost:8080/"
        },
        "id": "QgO3bYNRZ6en",
        "outputId": "b710d44b-85d5-4704-b6e4-d86e18e07102"
      },
      "outputs": [
        {
          "output_type": "stream",
          "name": "stdout",
          "text": [
            "Número: 5.9\n",
            "5.90 x  0 = 0.00\n",
            "5.90 x  1 = 5.90\n",
            "5.90 x  2 = 11.80\n",
            "5.90 x  3 = 17.70\n",
            "5.90 x  4 = 23.60\n",
            "5.90 x  5 = 29.50\n",
            "5.90 x  6 = 35.40\n",
            "5.90 x  7 = 41.30\n",
            "5.90 x  8 = 47.20\n",
            "5.90 x  9 = 53.10\n",
            "5.90 x 10 = 59.00\n"
          ]
        }
      ],
      "source": [
        "n = float(input(\"Número: \"))\n",
        "print(\"\\n\".join(f\"{n:.2f} x {i:2} = {n * i:.2f}\" for i in range(11)))\n"
      ]
    },
    {
      "cell_type": "markdown",
      "metadata": {
        "id": "YUF6-VCHOGhN"
      },
      "source": [
        "### Fatorial <br>\n",
        "Caucule o fatorial de um número (ex.: 5! = 120) usando loop e depois usando função recursiva."
      ]
    },
    {
      "cell_type": "code",
      "execution_count": 13,
      "metadata": {
        "id": "p2H6IQPoOGhO",
        "outputId": "73e419e6-229d-4134-dafd-5b5bd0e2893d",
        "colab": {
          "base_uri": "https://localhost:8080/"
        }
      },
      "outputs": [
        {
          "output_type": "stream",
          "name": "stdout",
          "text": [
            "5! é igual a 120.\n",
            "5! é igual a 120.\n"
          ]
        }
      ],
      "source": [
        "fator = num = 5\n",
        "fatorial = 1\n",
        "\n",
        "for n in range(num, 1, -1):\n",
        "    fatorial *= n\n",
        "\n",
        "print(f\"{num}! é igual a {fatorial}.\")\n",
        "\n",
        "\n",
        "def fatorial(fator):\n",
        "    if fator:\n",
        "        return fator * fatorial(fator-1)\n",
        "    else:\n",
        "        return 1\n",
        "\n",
        "fator = num = 5\n",
        "print(f\"{num}! é igual a {fatorial(fator)}.\")"
      ]
    },
    {
      "cell_type": "markdown",
      "metadata": {
        "id": "CT7IOTshZ6en"
      },
      "source": [
        "✅ Pontos fortes\n",
        "\n",
        "Implementa versão iterativa e recursiva do fatorial.\n",
        "\n",
        "Estrutura de loop e recursão corretas.\n",
        "\n",
        "Mensagens claras para o usuário.\n",
        "\n",
        "⚠️ Pontos fracos\n",
        "\n",
        "fator = num = 5 é redundante e confuso.\n",
        "\n",
        "Na versão iterativa, o loop range(num, 1, -1) funciona, mas usar range(2, num+1) é mais natural.\n",
        "\n",
        "Função fatorial e variável fatorial têm o mesmo nome → sombra de variável.\n",
        "\n",
        "Não trata números negativos."
      ]
    },
    {
      "cell_type": "markdown",
      "metadata": {
        "id": "3wEJLl3GZ6en"
      },
      "source": [
        "🔄 Refatoração"
      ]
    },
    {
      "cell_type": "code",
      "execution_count": 14,
      "metadata": {
        "colab": {
          "base_uri": "https://localhost:8080/"
        },
        "id": "GXOYF_Y6Z6en",
        "outputId": "d4773421-2820-4aeb-f083-1ae73031579c"
      },
      "outputs": [
        {
          "output_type": "stream",
          "name": "stdout",
          "text": [
            "5! é igual a 120.\n",
            "5! é igual a 120.\n"
          ]
        }
      ],
      "source": [
        "# Versão iterativa\n",
        "num = 5\n",
        "resultado = 1\n",
        "for n in range(2, num + 1):\n",
        "    resultado *= n\n",
        "print(f\"{num}! é igual a {resultado}.\")\n",
        "\n",
        "# Versão recursiva\n",
        "def fatorial(n: int) -> int:\n",
        "    if n < 2:\n",
        "        return 1\n",
        "    return n * fatorial(n - 1)\n",
        "\n",
        "print(f\"{num}! é igual a {fatorial(num)}.\")\n"
      ]
    },
    {
      "cell_type": "markdown",
      "metadata": {
        "id": "Rtn3oGhDZ6eo"
      },
      "source": [
        "⚡ Forma alternativa mais eficiente"
      ]
    },
    {
      "cell_type": "code",
      "execution_count": 15,
      "metadata": {
        "colab": {
          "base_uri": "https://localhost:8080/"
        },
        "id": "6M7PnswnZ6eo",
        "outputId": "95c7e9db-23ce-4ff7-9617-44989081f06c"
      },
      "outputs": [
        {
          "output_type": "stream",
          "name": "stdout",
          "text": [
            "5! é igual a 120\n"
          ]
        }
      ],
      "source": [
        "import math\n",
        "num = 5\n",
        "print(f\"{num}! é igual a {math.factorial(num)}\")\n"
      ]
    },
    {
      "cell_type": "markdown",
      "metadata": {
        "id": "3xeXEodmOGhP"
      },
      "source": [
        "### Palíndromo <br>\n",
        "Verifique se uma palavra é palíndromo (ex.: \"arara\", \"radar\")."
      ]
    },
    {
      "cell_type": "code",
      "execution_count": 16,
      "metadata": {
        "id": "GE4pgmgOOGhQ",
        "outputId": "6b8dfc0e-5c34-4e14-aa71-9481f50df76e",
        "colab": {
          "base_uri": "https://localhost:8080/"
        }
      },
      "outputs": [
        {
          "output_type": "stream",
          "name": "stdout",
          "text": [
            "cassie não é um políndromo, já que cassie é diferente de eissac.\n"
          ]
        }
      ],
      "source": [
        "palavra = \"cassie\"\n",
        "if palavra.lower() == palavra.lower()[::-1]:\n",
        "    print(f\"{palavra} é um políndromo, já que tanto faz se você começa a ler da esquerda pra direita ou vice-versa.\")\n",
        "else:\n",
        "    print(f\"{palavra} não é um políndromo, já que {palavra} é diferente de {palavra[::-1]}.\")\n"
      ]
    },
    {
      "cell_type": "markdown",
      "metadata": {
        "id": "pH__uA9dZ6eo"
      },
      "source": [
        "✅ Pontos fortes\n",
        "\n",
        "Usa slicing [::-1], que é a forma mais Pythonic de inverter string.\n",
        "\n",
        "Mensagens de saída são bem explicativas.\n",
        "\n",
        "Converte para minúsculas para evitar erro com maiúsculas.\n",
        "\n",
        "⚠️ Pontos fracos\n",
        "\n",
        "Palavra está fixa (\"cassie\") → não pede entrada do usuário.\n",
        "\n",
        "Mensagens longas demais (poderiam ser mais objetivas).\n",
        "\n",
        "Não ignora espaços nem acentos (ex.: \"Ame a ema\" não funcionaria)."
      ]
    },
    {
      "cell_type": "markdown",
      "metadata": {
        "id": "LIGbUxp1Z6et"
      },
      "source": [
        "🔄 Refatoração"
      ]
    },
    {
      "cell_type": "code",
      "execution_count": 17,
      "metadata": {
        "colab": {
          "base_uri": "https://localhost:8080/"
        },
        "id": "TnbxKTXPZ6et",
        "outputId": "837eda48-26a1-4052-c818-ad0cb1479d8e"
      },
      "outputs": [
        {
          "output_type": "stream",
          "name": "stdout",
          "text": [
            "Digite uma palavra: arara\n",
            "arara é um palíndromo.\n"
          ]
        }
      ],
      "source": [
        "palavra = input(\"Digite uma palavra: \").lower()\n",
        "if palavra == palavra[::-1]:\n",
        "    print(f\"{palavra} é um palíndromo.\")\n",
        "else:\n",
        "    print(f\"{palavra} não é um palíndromo.\")\n"
      ]
    },
    {
      "cell_type": "markdown",
      "metadata": {
        "id": "nzSY7fliZ6et"
      },
      "source": [
        "⚡ Forma alternativa mais eficiente (considerando frases e acentos)"
      ]
    },
    {
      "cell_type": "code",
      "execution_count": 18,
      "metadata": {
        "colab": {
          "base_uri": "https://localhost:8080/"
        },
        "id": "OkurakmxZ6et",
        "outputId": "8a5d1715-f0a5-4132-e897-0a8d7458fe96"
      },
      "outputs": [
        {
          "output_type": "stream",
          "name": "stdout",
          "text": [
            "Digite uma palavra ou frase: arara\n",
            "'arara' é um palíndromo.\n"
          ]
        }
      ],
      "source": [
        "import unicodedata\n",
        "\n",
        "def normalizar(txt: str) -> str:\n",
        "    return \"\".join(\n",
        "        c for c in unicodedata.normalize(\"NFKD\", txt.lower())\n",
        "        if c.isalnum() and not unicodedata.combining(c)\n",
        "    )\n",
        "\n",
        "palavra = input(\"Digite uma palavra ou frase: \")\n",
        "texto = normalizar(palavra)\n",
        "print(f\"'{palavra}' é um palíndromo.\" if texto == texto[::-1] else f\"'{palavra}' não é um palíndromo.\")\n"
      ]
    },
    {
      "cell_type": "markdown",
      "metadata": {
        "id": "Abtnha3TOGhR"
      },
      "source": [
        "### Lista sem duplicados <br>\n",
        "Dada uma lista com números repetidos, retorne uma nova lista apenas com os números únicos, preservando a ordem de aparição."
      ]
    },
    {
      "cell_type": "code",
      "execution_count": 19,
      "metadata": {
        "id": "1PCCqWw0OGhR",
        "outputId": "dadc6afd-851e-4543-e731-b969883e70c5",
        "colab": {
          "base_uri": "https://localhost:8080/"
        }
      },
      "outputs": [
        {
          "output_type": "stream",
          "name": "stdout",
          "text": [
            "[1, 2, 3, 4, 6, 7, 8]\n"
          ]
        },
        {
          "output_type": "execute_result",
          "data": {
            "text/plain": [
              "[1, 2, 3, 1, 4, 2, 6, 7, 2, 8, 7, 8]"
            ]
          },
          "metadata": {},
          "execution_count": 19
        }
      ],
      "source": [
        "lista_duplicatas = [1, 2, 3, 1, 4, 2, 6, 7, 2, 8, 7, 8]\n",
        "lista_limpa = lista_duplicatas[::-1]\n",
        "\n",
        "for num in lista_duplicatas:\n",
        "    if lista_limpa.count(num) > 1:\n",
        "        lista_limpa.remove(num)\n",
        "\n",
        "print(lista_limpa[::-1])\n",
        "lista_duplicatas"
      ]
    },
    {
      "cell_type": "markdown",
      "metadata": {
        "id": "WRuJ2d28Z6eu"
      },
      "source": [
        "✅ Pontos fortes\n",
        "\n",
        "Resolve o problema apenas com listas (sem recorrer a set logo de cara).\n",
        "\n",
        "Uso criativo de slicing [::-1] para preservar a última ocorrência de cada elemento.\n",
        "\n",
        "Código curto e direto.\n",
        "\n",
        "⚠️ Pontos fracos\n",
        "\n",
        "list.count() dentro do loop é O(n) → o código vira O(n²) (ineficiente para listas grandes).\n",
        "\n",
        "remove() dentro do loop também é custoso (outra busca O(n)).\n",
        "\n",
        "A lógica pode confundir: cria cópia invertida, remove duplicatas, e depois re-inverte."
      ]
    },
    {
      "cell_type": "markdown",
      "metadata": {
        "id": "ryc8OJWHZ6eu"
      },
      "source": [
        "🔄 Refatoração (mantendo lógica original, mas mais clara)"
      ]
    },
    {
      "cell_type": "markdown",
      "metadata": {
        "id": "me4C7DAVZ6eu"
      },
      "source": [
        "👉 Aqui não há count() nem remove(), só um not in → já mais eficiente."
      ]
    },
    {
      "cell_type": "code",
      "execution_count": 20,
      "metadata": {
        "colab": {
          "base_uri": "https://localhost:8080/"
        },
        "id": "0jTtn_4JZ6eu",
        "outputId": "397626fa-54c2-48b6-bd54-e04a1654c965"
      },
      "outputs": [
        {
          "output_type": "stream",
          "name": "stdout",
          "text": [
            "[1, 2, 3, 4, 6, 7, 8]\n"
          ]
        }
      ],
      "source": [
        "lista_duplicatas = [1, 2, 3, 1, 4, 2, 6, 7, 2, 8, 7, 8]\n",
        "lista_limpa = []\n",
        "vistos = set()\n",
        "\n",
        "for num in lista_duplicatas:\n",
        "    if num not in vistos:\n",
        "        vistos.add(num)\n",
        "        lista_limpa.append(num)\n",
        "\n",
        "print(lista_limpa)  # [1, 2, 3, 4, 6, 7, 8]\n"
      ]
    },
    {
      "cell_type": "markdown",
      "metadata": {
        "id": "z36x4P-BZ6eu"
      },
      "source": [
        "⚡ Forma alternativa mais eficiente (O(n))"
      ]
    },
    {
      "cell_type": "code",
      "execution_count": 21,
      "metadata": {
        "colab": {
          "base_uri": "https://localhost:8080/"
        },
        "id": "Ex2ebIlmZ6eu",
        "outputId": "d547a8db-6bf1-4949-cd14-f469653220c8"
      },
      "outputs": [
        {
          "output_type": "stream",
          "name": "stdout",
          "text": [
            "[1, 2, 3, 4, 6, 7, 8]\n"
          ]
        }
      ],
      "source": [
        "from collections import OrderedDict  # Importa OrderedDict, que preserva a ordem de inserção\n",
        "\n",
        "# Lista original com elementos duplicados\n",
        "lista_duplicatas = [1, 2, 3, 1, 4, 2, 6, 7, 2, 8, 7, 8]\n",
        "\n",
        "# OrderedDict.fromkeys() cria um dicionário com as chaves sendo os elementos da lista\n",
        "# Como dicionário não aceita chaves repetidas, isso remove duplicatas\n",
        "# E como é um OrderedDict, a ordem da primeira ocorrência é preservada\n",
        "lista_limpa = list(OrderedDict.fromkeys(lista_duplicatas))\n",
        "\n",
        "print(lista_limpa)  # Saída: [1, 2, 3, 4, 6, 7, 8]\n"
      ]
    },
    {
      "cell_type": "markdown",
      "metadata": {
        "id": "DS6zJUDrZ6eu"
      },
      "source": [
        "✅ Resumo do que acontece:\n",
        "\n",
        "fromkeys(lista_duplicatas) cria chaves únicas.\n",
        "\n",
        "OrderedDict mantém a ordem da primeira aparição.\n",
        "\n",
        "list(...) converte as chaves de volta para uma lista."
      ]
    },
    {
      "cell_type": "markdown",
      "metadata": {
        "id": "qX1wO6BDOGhS"
      },
      "source": [
        "### Números primos <br>\n",
        "Escreva uma função que verifique se um número é primo.<br>\n",
        "Depois, gere todos os primos até 100."
      ]
    },
    {
      "cell_type": "code",
      "execution_count": 22,
      "metadata": {
        "id": "GKoEFJiNOGhS",
        "outputId": "1a62325c-f7c1-48ab-8d65-cda3eba94cef",
        "colab": {
          "base_uri": "https://localhost:8080/"
        }
      },
      "outputs": [
        {
          "output_type": "stream",
          "name": "stdout",
          "text": [
            "39 não é primo.\n",
            "Números primos até 100:\n",
            "2\n",
            "3\n",
            "5\n",
            "7\n",
            "11\n",
            "13\n",
            "17\n",
            "19\n",
            "23\n",
            "29\n",
            "31\n",
            "37\n",
            "41\n",
            "43\n",
            "47\n",
            "53\n",
            "59\n",
            "61\n",
            "67\n",
            "71\n",
            "73\n",
            "79\n",
            "83\n",
            "89\n",
            "97\n"
          ]
        }
      ],
      "source": [
        "num = 39\n",
        "\n",
        "def eh_primo(num):\n",
        "    if num % 2 or num == 2:\n",
        "        for n in range(3, num//2, 2):\n",
        "            if num % n:\n",
        "                continue\n",
        "            else:\n",
        "                return 0\n",
        "    else:\n",
        "        return 0\n",
        "\n",
        "    return 1\n",
        "\n",
        "if eh_primo(num):\n",
        "    print(f\"{num} é primo.\")\n",
        "else:\n",
        "    print(f\"{num} não é primo.\")\n",
        "\n",
        "print(f\"Números primos até 100:\\n2\")\n",
        "for n in range(3, 100, 2):\n",
        "    if eh_primo(n):\n",
        "        print(n)\n",
        "\n"
      ]
    },
    {
      "cell_type": "markdown",
      "metadata": {
        "id": "fmTHKtslZ6ev"
      },
      "source": [
        "Boa! 🎉 Seu código já funciona, mas dá pra deixar a função eh_primo mais clara e eficiente. Vou comentar alguns pontos:\n",
        "\n",
        "🔎 Problemas e detalhes na versão atual\n",
        "\n",
        "if num % 2 or num == 2:\n",
        "\n",
        "Isso funciona, mas pode ser confuso. O caso do 2 pode ser tratado de forma explícita.\n",
        "\n",
        "Além disso, números pares maiores que 2 não precisam ser testados.\n",
        "\n",
        "O for vai até num//2. Isso é desnecessário → basta ir até a raiz quadrada de num.\n",
        "\n",
        "O retorno 0/1 funciona, mas em Python é mais comum usar True/False."
      ]
    },
    {
      "cell_type": "markdown",
      "metadata": {
        "id": "2Vcj7aRsZ6ev"
      },
      "source": [
        "✅ Versão mais legível e rápida"
      ]
    },
    {
      "cell_type": "markdown",
      "metadata": {
        "id": "bn06L53cZ6ev"
      },
      "source": [
        "⚡ O que mudou\n",
        "\n",
        "Usa True/False → mais \"Pythonic\".\n",
        "\n",
        "Testa só até √num, muito mais rápido para números grandes.\n",
        "\n",
        "Trata 2 como caso especial e ignora pares direto."
      ]
    },
    {
      "cell_type": "code",
      "execution_count": 23,
      "metadata": {
        "colab": {
          "base_uri": "https://localhost:8080/"
        },
        "id": "Rwkja3ZdZ6ev",
        "outputId": "dc4e3e9a-560e-403b-a9d7-afefeefdd3af"
      },
      "outputs": [
        {
          "output_type": "stream",
          "name": "stdout",
          "text": [
            "39 não é primo.\n",
            "Números primos até 100:\n",
            "2\n",
            "3\n",
            "5\n",
            "7\n",
            "11\n",
            "13\n",
            "17\n",
            "19\n",
            "23\n",
            "29\n",
            "31\n",
            "37\n",
            "41\n",
            "43\n",
            "47\n",
            "53\n",
            "59\n",
            "61\n",
            "67\n",
            "71\n",
            "73\n",
            "79\n",
            "83\n",
            "89\n",
            "97\n"
          ]
        }
      ],
      "source": [
        "def eh_primo(num):\n",
        "    if num < 2:\n",
        "        return False\n",
        "    if num == 2:\n",
        "        return True\n",
        "    if num % 2 == 0:\n",
        "        return False\n",
        "\n",
        "    for n in range(3, int(num**0.5) + 1, 2):  # só ímpares até sqrt(num)\n",
        "        if num % n == 0:\n",
        "            return False\n",
        "    return True\n",
        "\n",
        "\n",
        "# Teste\n",
        "num = 39\n",
        "if eh_primo(num):\n",
        "    print(f\"{num} é primo.\")\n",
        "else:\n",
        "    print(f\"{num} não é primo.\")\n",
        "\n",
        "print(\"Números primos até 100:\")\n",
        "for n in range(2, 101):\n",
        "    if eh_primo(n):\n",
        "        print(n)\n"
      ]
    },
    {
      "cell_type": "markdown",
      "metadata": {
        "id": "sDy8DehBOGhT"
      },
      "source": [
        "### Caixa eletrônico <br>\n",
        "Simule um caixa eletrônico: peça um valor interiro e informe a quantidade de cédulas de 100, 50, 20, 10, 5 e 2 que devem ser entregues."
      ]
    },
    {
      "cell_type": "code",
      "execution_count": 25,
      "metadata": {
        "id": "EEdtau3BOGhT",
        "outputId": "fe22b10e-c830-403a-b004-b8ad3c6eddf8",
        "colab": {
          "base_uri": "https://localhost:8080/"
        }
      },
      "outputs": [
        {
          "output_type": "stream",
          "name": "stdout",
          "text": [
            "Quanto deseja sacar?\n",
            "537\n",
            "Cédula: quantidade\n",
            " R$ 100: 5\n",
            " R$ 20: 1\n",
            " R$ 10: 1\n",
            " R$ 5: 1\n",
            " R$ 1: 2\n"
          ]
        }
      ],
      "source": [
        "valor = int(input(\"Quanto deseja sacar?\\n\"))\n",
        "cedulas = {100: 0, 50: 0, 20: 0, 10: 0, 5: 0, 1: 0}\n",
        "\n",
        "for cedula in cedulas.keys():\n",
        "    dispensadas = valor // cedula\n",
        "    if dispensadas:\n",
        "        cedulas[cedula] += dispensadas\n",
        "        valor -= cedula * dispensadas\n",
        "\n",
        "print(\"Cédula: quantidade\")\n",
        "for cedula, quantidade in cedulas.items():\n",
        "    if quantidade:\n",
        "        print(f\" R$ {cedula}: {quantidade}\")\n"
      ]
    },
    {
      "cell_type": "markdown",
      "metadata": {
        "id": "Sq6NffvuZ6ew"
      },
      "source": [
        "✅ Pontos fortes\n",
        "\n",
        "Lógica correta para distribuir cédulas do maior para o menor valor.\n",
        "\n",
        "Estrutura de dicionário deixa claro quais cédulas são consideradas.\n",
        "\n",
        "Imprime apenas cédulas usadas.\n",
        "\n",
        "⚠️ Pontos fracos\n",
        "\n",
        "Não valida se a entrada é número positivo.\n",
        "\n",
        "Não lida com valores não inteiros.\n",
        "\n",
        "Pode ser simplificado usando apenas divisões inteiras e divmod()."
      ]
    },
    {
      "cell_type": "markdown",
      "metadata": {
        "id": "dE1mp8zgZ6ew"
      },
      "source": [
        "🔄 Refatoração"
      ]
    },
    {
      "cell_type": "code",
      "execution_count": 26,
      "metadata": {
        "colab": {
          "base_uri": "https://localhost:8080/"
        },
        "id": "z8m6NvwkZ6ew",
        "outputId": "f835482d-ce8d-43d1-81f8-e8b4f1d607d6"
      },
      "outputs": [
        {
          "output_type": "stream",
          "name": "stdout",
          "text": [
            "Quanto deseja sacar? 537\n",
            "Cédula: quantidade\n",
            "R$ 100: 5\n",
            "R$ 20: 1\n",
            "R$ 10: 1\n",
            "R$ 5: 1\n",
            "R$ 1: 2\n"
          ]
        }
      ],
      "source": [
        "valor = int(input(\"Quanto deseja sacar? \"))\n",
        "\n",
        "if valor <= 0:\n",
        "    print(\"Digite um valor positivo.\")\n",
        "else:\n",
        "    cedulas = {100: 0, 50: 0, 20: 0, 10: 0, 5: 0, 1: 0}\n",
        "    for cedula in cedulas:\n",
        "        cedulas[cedula], valor = divmod(valor, cedula)\n",
        "\n",
        "    print(\"Cédula: quantidade\")\n",
        "    for cedula, quantidade in cedulas.items():\n",
        "        if quantidade:\n",
        "            print(f\"R$ {cedula}: {quantidade}\")\n"
      ]
    },
    {
      "cell_type": "markdown",
      "metadata": {
        "id": "pknH1nLNZ6ew"
      },
      "source": [
        "⚡ Forma alternativa mais eficiente"
      ]
    },
    {
      "cell_type": "code",
      "execution_count": 27,
      "metadata": {
        "colab": {
          "base_uri": "https://localhost:8080/"
        },
        "id": "woaW0ysnZ6ew",
        "outputId": "9825a67c-ca3b-4a0d-b692-f926dc01910f"
      },
      "outputs": [
        {
          "output_type": "stream",
          "name": "stdout",
          "text": [
            "Quanto deseja sacar? 537\n",
            "R$ 100: 5\n",
            "R$ 20: 1\n",
            "R$ 10: 1\n",
            "R$ 5: 1\n",
            "R$ 1: 2\n"
          ]
        }
      ],
      "source": [
        "valor = int(input(\"Quanto deseja sacar? \"))\n",
        "for cedula in [100, 50, 20, 10, 5, 1]:\n",
        "    qtd, valor = divmod(valor, cedula)\n",
        "    if qtd:\n",
        "        print(f\"R$ {cedula}: {qtd}\")\n"
      ]
    },
    {
      "cell_type": "markdown",
      "metadata": {
        "id": "1tg_MM_MOGhU"
      },
      "source": [
        "### Jogo da forca <br>\n",
        "Implemente uma versão simplificada do jogo da forca, escolhendo uma palavra fixa (ex.: \"python\") e deixando o usuário adivinhar letra por letra"
      ]
    },
    {
      "cell_type": "code",
      "execution_count": 28,
      "metadata": {
        "colab": {
          "base_uri": "https://localhost:8080/"
        },
        "id": "4pUPWKFTOGhV",
        "outputId": "1856c618-328f-44e7-ed28-7e4119642c02"
      },
      "outputs": [
        {
          "output_type": "stream",
          "name": "stdout",
          "text": [
            "Jogo da forca\n",
            "A palavra tem 6 letras e você tem 10 tentativas.\n",
            "\n",
            "1a tentativa\n",
            "Digite uma letra:\n",
            "a\n",
            "\n",
            "2a tentativa\n",
            "Digite uma letra:\n",
            "e\n",
            "\n",
            "3a tentativa\n",
            "Digite uma letra:\n",
            "i\n",
            "\n",
            "4a tentativa\n",
            "Digite uma letra:\n",
            "o\n",
            "\n",
            "Sim, temos essa letra na palavra:  _ _ _ _ o _\n",
            "\n",
            "5a tentativa\n",
            "Digite uma letra:\n",
            "u\n",
            "\n",
            "6a tentativa\n",
            "Digite uma letra:\n",
            "p\n",
            "\n",
            "Sim, temos essa letra na palavra:  p _ _ _ o _\n",
            "\n",
            "7a tentativa\n",
            "Digite uma letra:\n",
            "y\n",
            "\n",
            "Sim, temos essa letra na palavra:  p y _ _ o _\n",
            "\n",
            "8a tentativa\n",
            "Digite uma letra:\n",
            "t\n",
            "\n",
            "Sim, temos essa letra na palavra:  p y t _ o _\n",
            "\n",
            "9a tentativa\n",
            "Digite uma letra:\n",
            "h\n",
            "\n",
            "Sim, temos essa letra na palavra:  p y t h o _\n",
            "\n",
            "10a tentativa\n",
            "Digite uma letra:\n",
            "n\n",
            "\n",
            "Sim, temos essa letra na palavra:  p y t h o n\n",
            "\n",
            "Parabéns, você conseguiu!\n"
          ]
        }
      ],
      "source": [
        "palavra = \"python\"\n",
        "tamanho_palavra = len(palavra)\n",
        "forca = (\"_ \" * tamanho_palavra).split()\n",
        "forca_ = \" \".join(c for c in forca)\n",
        "conseguiu = False\n",
        "\n",
        "print(f\"Jogo da forca\\nA palavra tem {tamanho_palavra} letras e você tem 10 tentativas.\")\n",
        "\n",
        "for i in range(1, 11):\n",
        "    letra = input(f\"\\n{i}a tentativa\\nDigite uma letra:\\n\").lower().strip()\n",
        "    if letra in palavra:\n",
        "        forca[palavra.index(letra)] = letra\n",
        "        print(\"\\nSim, temos essa letra na palavra: \", (\" \".join(c for c in forca)))\n",
        "\n",
        "    if (\"\".join(c for c in forca)) == palavra:\n",
        "        print(\"\\nParabéns, você conseguiu!\")\n",
        "        break\n",
        "    elif i == 10:\n",
        "      print(\"\\nNúmero de tentativas esgotado... Não foi dessa vez.\")\n"
      ]
    },
    {
      "cell_type": "markdown",
      "metadata": {
        "id": "-BIHg8SuZ6ex"
      },
      "source": [
        "✅ Pontos fortes\n",
        "\n",
        "Jogo funcional com limite de tentativas.\n",
        "\n",
        "Mensagens claras e feedback a cada letra.\n",
        "\n",
        "Usa lista para representar o progresso do jogador.\n",
        "\n",
        "⚠️ Pontos fracos\n",
        "\n",
        "palavra.index(letra) só substitui a primeira ocorrência → letras repetidas não aparecem todas.\n",
        "\n",
        "Variável forca_ é desnecessária.\n",
        "\n",
        "Não valida se o jogador digitou apenas uma letra.\n",
        "\n",
        "Código pouco eficiente para palavras grandes ou com muitas letras repetidas."
      ]
    },
    {
      "cell_type": "markdown",
      "metadata": {
        "id": "9RMWlFLUZ6ex"
      },
      "source": [
        "🔄 Refatoração"
      ]
    },
    {
      "cell_type": "code",
      "execution_count": 29,
      "metadata": {
        "colab": {
          "base_uri": "https://localhost:8080/"
        },
        "id": "0m0YemMmZ6ex",
        "outputId": "3928436a-2a88-4136-d943-eb6fc99e629f"
      },
      "outputs": [
        {
          "output_type": "stream",
          "name": "stdout",
          "text": [
            "Jogo da forca\n",
            "A palavra tem 6 letras e você tem 10 tentativas.\n",
            "\n",
            "1ª tentativa\n",
            "Digite uma letra: a\n",
            "Letra não encontrada.\n",
            "\n",
            "2ª tentativa\n",
            "Digite uma letra: e\n",
            "Letra não encontrada.\n",
            "\n",
            "3ª tentativa\n",
            "Digite uma letra: i\n",
            "Letra não encontrada.\n",
            "\n",
            "4ª tentativa\n",
            "Digite uma letra: o\n",
            "Sim, temos essa letra na palavra:  _ _ _ _ o _\n",
            "\n",
            "5ª tentativa\n",
            "Digite uma letra: u\n",
            "Letra não encontrada.\n",
            "\n",
            "6ª tentativa\n",
            "Digite uma letra: p\n",
            "Sim, temos essa letra na palavra:  p _ _ _ o _\n",
            "\n",
            "7ª tentativa\n",
            "Digite uma letra: y\n",
            "Sim, temos essa letra na palavra:  p y _ _ o _\n",
            "\n",
            "8ª tentativa\n",
            "Digite uma letra: t\n",
            "Sim, temos essa letra na palavra:  p y t _ o _\n",
            "\n",
            "9ª tentativa\n",
            "Digite uma letra: h\n",
            "Sim, temos essa letra na palavra:  p y t h o _\n",
            "\n",
            "10ª tentativa\n",
            "Digite uma letra: n\n",
            "Sim, temos essa letra na palavra:  p y t h o n\n",
            "\n",
            "Parabéns, você conseguiu!\n"
          ]
        }
      ],
      "source": [
        "palavra = \"python\"\n",
        "forca = [\"_\"] * len(palavra)\n",
        "tentativas = 10\n",
        "\n",
        "print(f\"Jogo da forca\\nA palavra tem {len(palavra)} letras e você tem {tentativas} tentativas.\")\n",
        "\n",
        "for i in range(1, tentativas + 1):\n",
        "    letra = input(f\"\\n{i}ª tentativa\\nDigite uma letra: \").lower().strip()\n",
        "    if len(letra) != 1:\n",
        "        print(\"Digite apenas uma letra.\")\n",
        "        continue\n",
        "    if letra in palavra:\n",
        "        for idx, char in enumerate(palavra):\n",
        "            if char == letra:\n",
        "                forca[idx] = letra\n",
        "        print(\"Sim, temos essa letra na palavra: \", \" \".join(forca))\n",
        "    else:\n",
        "        print(\"Letra não encontrada.\")\n",
        "\n",
        "    if \"\".join(forca) == palavra:\n",
        "        print(\"\\nParabéns, você conseguiu!\")\n",
        "        break\n",
        "    elif i == tentativas:\n",
        "        print(f\"\\nNúmero de tentativas esgotado... Não foi dessa vez. A palavra era '{palavra}'.\")\n"
      ]
    },
    {
      "cell_type": "markdown",
      "metadata": {
        "id": "j4giLLF3Z6ey"
      },
      "source": [
        "⚡ Forma alternativa mais eficiente"
      ]
    },
    {
      "cell_type": "code",
      "execution_count": 30,
      "metadata": {
        "colab": {
          "base_uri": "https://localhost:8080/"
        },
        "id": "5qYh0INuZ6ey",
        "outputId": "45bc469d-0875-4ab6-f3a5-194dde789c27"
      },
      "outputs": [
        {
          "output_type": "stream",
          "name": "stdout",
          "text": [
            "Tentativas restantes: 10. Digite uma letra: a\n",
            "_ _ _ _ _ _\n",
            "Tentativas restantes: 9. Digite uma letra: e\n",
            "_ _ _ _ _ _\n",
            "Tentativas restantes: 8. Digite uma letra: i\n",
            "_ _ _ _ _ _\n",
            "Tentativas restantes: 7. Digite uma letra: o\n",
            "_ _ _ _ o _\n",
            "Tentativas restantes: 6. Digite uma letra: u\n",
            "_ _ _ _ o _\n",
            "Tentativas restantes: 5. Digite uma letra: p\n",
            "p _ _ _ o _\n",
            "Tentativas restantes: 4. Digite uma letra: y\n",
            "p y _ _ o _\n",
            "Tentativas restantes: 3. Digite uma letra: t\n",
            "p y t _ o _\n",
            "Tentativas restantes: 2. Digite uma letra: h\n",
            "p y t h o _\n",
            "Tentativas restantes: 1. Digite uma letra: n\n",
            "p y t h o n\n",
            "Parabéns!\n"
          ]
        }
      ],
      "source": [
        "palavra = \"python\"\n",
        "forca = [\"_\"] * len(palavra)\n",
        "tentativas = 10\n",
        "usadas = set()\n",
        "\n",
        "while tentativas > 0 and \"_\" in forca:\n",
        "    letra = input(f\"Tentativas restantes: {tentativas}. Digite uma letra: \").lower().strip()\n",
        "    if len(letra) != 1 or letra in usadas:\n",
        "        continue\n",
        "    usadas.add(letra)\n",
        "    for idx, char in enumerate(palavra):\n",
        "        if char == letra:\n",
        "            forca[idx] = letra\n",
        "    print(\" \".join(forca))\n",
        "    if \"_\" not in forca:\n",
        "        break\n",
        "    tentativas -= 1\n",
        "\n",
        "print(\"Parabéns!\" if \"_\" not in forca else f\"Fim de jogo. A palavra era '{palavra}'.\")\n"
      ]
    }
  ],
  "metadata": {
    "colab": {
      "provenance": []
    },
    "kernelspec": {
      "display_name": "Python 3",
      "language": "python",
      "name": "python3"
    },
    "language_info": {
      "codemirror_mode": {
        "name": "ipython",
        "version": 3
      },
      "file_extension": ".py",
      "mimetype": "text/x-python",
      "name": "python",
      "nbconvert_exporter": "python",
      "pygments_lexer": "ipython3",
      "version": "3.13.5"
    }
  },
  "nbformat": 4,
  "nbformat_minor": 0
}