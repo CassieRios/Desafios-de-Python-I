{
 "cells": [
  {
   "cell_type": "markdown",
   "metadata": {
    "id": "x7-T3diYOGg7"
   },
   "source": [
    "## Problemas para treinar python"
   ]
  },
  {
   "cell_type": "markdown",
   "metadata": {
    "id": "qjLizbjuOGhB"
   },
   "source": [
    "### Par ou ímpar <br>\n",
    "Escreva um programa que peça um número ao usuário e diga se é par ou ímpar"
   ]
  },
  {
   "cell_type": "code",
   "execution_count": null,
   "metadata": {
    "id": "l8F6FyXDOGhC",
    "outputId": "4a179b79-f970-407a-e91f-2137e143eec4"
   },
   "outputs": [
    {
     "name": "stdout",
     "output_type": "stream",
     "text": [
      "É ímpar.\n"
     ]
    }
   ],
   "source": [
    "num = int(input(\"Posso te dizer se um número é par ou ímpar. Quer tentar? Então digite um número e tecle enter: \"))\n",
    "if num % 2:\n",
    "    print(\"É ímpar.\")\n",
    "else:\n",
    "    print(\"É par.\")"
   ]
  },
  {
   "cell_type": "markdown",
   "metadata": {},
   "source": [
    "✅ Pontos fortes\n",
    "\n",
    "Simples e direto.\n",
    "\n",
    "Uso do operador % de forma correta.\n",
    "\n",
    "Mensagens claras para o usuário.\n",
    "\n",
    "⚠️ Pontos fracos\n",
    "\n",
    "Poderia ser mais legível se invertesse a ordem (usar == 0).\n",
    "\n",
    "Repetição de print (mesmo comando, só muda o texto).\n",
    "\n",
    "Não trata entradas inválidas."
   ]
  },
  {
   "cell_type": "markdown",
   "metadata": {},
   "source": [
    "🔄 Refatoração"
   ]
  },
  {
   "cell_type": "code",
   "execution_count": 2,
   "metadata": {},
   "outputs": [
    {
     "name": "stdout",
     "output_type": "stream",
     "text": [
      "É ímpar.\n"
     ]
    }
   ],
   "source": [
    "try:\n",
    "    num = int(input(\"Digite um número: \"))\n",
    "    print(\"É par.\" if num % 2 == 0 else \"É ímpar.\")\n",
    "except ValueError:\n",
    "    print(\"Entrada inválida. Digite um número inteiro.\")\n"
   ]
  },
  {
   "cell_type": "markdown",
   "metadata": {},
   "source": [
    "⚡ Forma alternativa mais eficiente"
   ]
  },
  {
   "cell_type": "code",
   "execution_count": 3,
   "metadata": {},
   "outputs": [
    {
     "name": "stdout",
     "output_type": "stream",
     "text": [
      "É ímpar.\n"
     ]
    }
   ],
   "source": [
    "print(\"É par.\" if int(input(\"Digite um número: \")) % 2 == 0 else \"É ímpar.\")\n"
   ]
  },
  {
   "cell_type": "markdown",
   "metadata": {
    "id": "osRdPPLJOGhG"
   },
   "source": [
    "### Contador de vogais <br>\n",
    "Peça uma string ao usuário e conte quantas vogais (a, e, i, o, u) existem nela."
   ]
  },
  {
   "cell_type": "code",
   "execution_count": null,
   "metadata": {
    "id": "L6I0apL4OGhI",
    "outputId": "6fc5f3d3-4674-4a47-9600-7c77b054545f"
   },
   "outputs": [
    {
     "name": "stdout",
     "output_type": "stream",
     "text": [
      "Esse texto tem 6 vogais.\n"
     ]
    }
   ],
   "source": [
    "import unicodedata\n",
    "\n",
    "texto = input(\"Quer saber quantas vogais há em um texto?\\nEntão manda ele aqui que eu te digo.\")\n",
    "vogais = \"aeiou\"\n",
    "caracteres = [c for c in unicodedata.normalize(\"NFKD\", texto.lower())]\n",
    "quantidade_vogais = sum(1 for c in caracteres if c in vogais)\n",
    "\n",
    "print(f\"Esse texto tem {quantidade_vogais} vogais.\")\n"
   ]
  },
  {
   "cell_type": "markdown",
   "metadata": {},
   "source": [
    "✅ Pontos fortes\n",
    "\n",
    "Código legível e bem organizado.\n",
    "\n",
    "Uso correto de unicodedata.normalize para lidar com acentos.\n",
    "\n",
    "Boa mensagem de interação com o usuário.\n",
    "\n",
    "⚠️ Pontos fracos\n",
    "\n",
    "Normalização não remove acentos explicitamente (´ ainda está presente).\n",
    "\n",
    "Lista intermediária (caracteres) é desnecessária.\n",
    "\n",
    "Pode ser escrito de forma mais enxuta sem perder clareza."
   ]
  },
  {
   "cell_type": "markdown",
   "metadata": {},
   "source": [
    "🔄 Refatoração"
   ]
  },
  {
   "cell_type": "code",
   "execution_count": 4,
   "metadata": {},
   "outputs": [
    {
     "name": "stdout",
     "output_type": "stream",
     "text": [
      "Esse texto tem 7 vogais.\n"
     ]
    }
   ],
   "source": [
    "import unicodedata\n",
    "\n",
    "texto = input(\"Quer saber quantas vogais há em um texto?\\nDigite aqui: \")\n",
    "vogais = \"aeiou\"\n",
    "texto_normalizado = \"\".join(\n",
    "    c for c in unicodedata.normalize(\"NFKD\", texto.lower())\n",
    "    if not unicodedata.combining(c)\n",
    ")\n",
    "quantidade_vogais = sum(1 for c in texto_normalizado if c in vogais)\n",
    "\n",
    "print(f\"Esse texto tem {quantidade_vogais} vogais.\")\n"
   ]
  },
  {
   "cell_type": "markdown",
   "metadata": {},
   "source": [
    "⚡ Forma alternativa mais eficiente"
   ]
  },
  {
   "cell_type": "code",
   "execution_count": 5,
   "metadata": {},
   "outputs": [
    {
     "name": "stdout",
     "output_type": "stream",
     "text": [
      "Esse texto tem 7 vogais.\n"
     ]
    }
   ],
   "source": [
    "import unicodedata\n",
    "\n",
    "print(\n",
    "    f\"Esse texto tem {sum(1 for c in unicodedata.normalize('NFKD', input('Digite um texto: ').lower()) if not unicodedata.combining(c) and c in 'aeiou')} vogais.\"\n",
    ")\n"
   ]
  },
  {
   "cell_type": "markdown",
   "metadata": {
    "id": "rEPGONK9OGhJ"
   },
   "source": [
    "### Maior número: <br>\n",
    "Receba uma lista de números e encontre o maior valor sem usar `max()`"
   ]
  },
  {
   "cell_type": "code",
   "execution_count": null,
   "metadata": {
    "id": "CzWR7FwPOGhK",
    "outputId": "3e015f8a-a8a9-4ee0-d2f4-99d7ee11e6e8"
   },
   "outputs": [
    {
     "name": "stdout",
     "output_type": "stream",
     "text": [
      "O maior número dessa lista é 5.0.\n"
     ]
    }
   ],
   "source": [
    "lista_str = input(\"Quer saber qual o maior número dentre vários outros?\\nEntão manda a lista pra mim. Ah, e separe os número por vígula.\\n\").split(\",\")\n",
    "lista_num = [float(num.strip()) for num in lista_str]\n",
    "max_num = sorted(lista_num)[-1]\n",
    "print(f\"O maior número dessa lista é {max_num}.\")"
   ]
  },
  {
   "cell_type": "markdown",
   "metadata": {},
   "source": [
    "✅ Pontos fortes\n",
    "\n",
    "Código claro e fácil de entender.\n",
    "\n",
    "Remove espaços antes da conversão com .strip().\n",
    "\n",
    "Resolve o problema sem usar max(), conforme pedido.\n",
    "\n",
    "⚠️ Pontos fracos\n",
    "\n",
    "sorted() ordena toda a lista, o que é ineficiente para apenas achar o maior.\n",
    "\n",
    "Falta tratamento para lista vazia ou valores inválidos.\n",
    "\n",
    "Interação com usuário um pouco longa."
   ]
  },
  {
   "cell_type": "markdown",
   "metadata": {},
   "source": [
    "🔄 Refatoração (sem max(), mas mais eficiente que sorted)"
   ]
  },
  {
   "cell_type": "code",
   "execution_count": null,
   "metadata": {},
   "outputs": [
    {
     "name": "stdout",
     "output_type": "stream",
     "text": [
      "O maior número dessa lista é 9.0.\n"
     ]
    }
   ],
   "source": [
    "try:\n",
    "    lista_str = input(\"Digite números separados por vírgula: \").split(\",\")\n",
    "    lista_num = [float(num.strip()) for num in lista_str]\n",
    "\n",
    "    if not lista_num:\n",
    "        print(\"A lista está vazia.\")\n",
    "    else:\n",
    "        maior = lista_num[0]\n",
    "        for n in lista_num[1:]:\n",
    "            if n > maior:\n",
    "                maior = n\n",
    "        print(f\"O maior número dessa lista é {maior}.\")\n",
    "except ValueError:\n",
    "    print(\"Entrada inválida. Digite apenas números separados por vírgula.\")\n"
   ]
  },
  {
   "cell_type": "markdown",
   "metadata": {},
   "source": [
    "⚡ Forma alternativa mais eficiente"
   ]
  },
  {
   "cell_type": "code",
   "execution_count": null,
   "metadata": {},
   "outputs": [],
   "source": [
    "nums = [float(n) for n in input(\"Digite números separados por vírgula: \").split(\",\")]\n",
    "print(f\"O maior número é {max(nums, key=float)}\")\n"
   ]
  },
  {
   "cell_type": "markdown",
   "metadata": {
    "id": "y0SWux-JOGhL"
   },
   "source": [
    "### Tabuada formatada <br>\n",
    "Peça um número ao usuário e mostre a tabuada de 1 a 10 desse número."
   ]
  },
  {
   "cell_type": "code",
   "execution_count": null,
   "metadata": {
    "id": "gW6U2y_bOGhM",
    "outputId": "0ec3bcda-2e9d-4c0c-ee8b-b2dbcccd0422"
   },
   "outputs": [
    {
     "name": "stdout",
     "output_type": "stream",
     "text": [
      "Tabuada de 5.9\n",
      "\n",
      "5.9 x 0 = 0.0\n",
      "5.9 x 1 = 5.9\n",
      "5.9 x 2 = 11.8\n",
      "5.9 x 3 = 17.7\n",
      "5.9 x 4 = 23.6\n",
      "5.9 x 5 = 29.5\n",
      "5.9 x 6 = 35.4\n",
      "5.9 x 7 = 41.3\n",
      "5.9 x 8 = 47.2\n",
      "5.9 x 9 = 53.1\n",
      "5.9 x 10 = 59.0\n"
     ]
    }
   ],
   "source": [
    "num = round(float(input(\"Quer saber a tabuada de um número?\\nEntão manda ele aqui (use . para separar as casas decimais, se for o caso).\\n\")), 2)\n",
    "print(f\"Tabuada de {num}\\n\")\n",
    "for parcela in range(0, 11):\n",
    "    print(f\"{num} x {parcela} = {round(num*parcela, 2)}\")"
   ]
  },
  {
   "cell_type": "markdown",
   "metadata": {},
   "source": [
    "✅ Pontos fortes\n",
    "\n",
    "Aceita números decimais, não só inteiros.\n",
    "\n",
    "Usa round para manter consistência nas casas decimais.\n",
    "\n",
    "Estrutura de repetição bem clara.\n",
    "\n",
    "⚠️ Pontos fracos\n",
    "\n",
    "round aplicado na entrada não é necessário (pode arredondar só na saída).\n",
    "\n",
    "Cabeçalho da tabuada poderia ter espaçamento melhorado.\n",
    "\n",
    "Resultado pode ficar com formatação inconsistente (ex.: 2.0 em vez de 2.00)."
   ]
  },
  {
   "cell_type": "markdown",
   "metadata": {},
   "source": [
    "🔄 Refatoração"
   ]
  },
  {
   "cell_type": "code",
   "execution_count": 6,
   "metadata": {},
   "outputs": [
    {
     "name": "stdout",
     "output_type": "stream",
     "text": [
      "\n",
      "Tabuada de 5.70\n",
      "\n",
      "5.70 x  0 = 0.00\n",
      "5.70 x  1 = 5.70\n",
      "5.70 x  2 = 11.40\n",
      "5.70 x  3 = 17.10\n",
      "5.70 x  4 = 22.80\n",
      "5.70 x  5 = 28.50\n",
      "5.70 x  6 = 34.20\n",
      "5.70 x  7 = 39.90\n",
      "5.70 x  8 = 45.60\n",
      "5.70 x  9 = 51.30\n",
      "5.70 x 10 = 57.00\n"
     ]
    }
   ],
   "source": [
    "num = float(input(\"Digite um número para ver a tabuada: \"))\n",
    "print(f\"\\nTabuada de {num:.2f}\\n\")\n",
    "for i in range(11):\n",
    "    print(f\"{num:.2f} x {i:2} = {num * i:.2f}\")\n"
   ]
  },
  {
   "cell_type": "markdown",
   "metadata": {},
   "source": [
    "⚡ Forma alternativa mais eficiente"
   ]
  },
  {
   "cell_type": "code",
   "execution_count": 7,
   "metadata": {},
   "outputs": [
    {
     "name": "stdout",
     "output_type": "stream",
     "text": [
      "5.70 x  0 = 0.00\n",
      "5.70 x  1 = 5.70\n",
      "5.70 x  2 = 11.40\n",
      "5.70 x  3 = 17.10\n",
      "5.70 x  4 = 22.80\n",
      "5.70 x  5 = 28.50\n",
      "5.70 x  6 = 34.20\n",
      "5.70 x  7 = 39.90\n",
      "5.70 x  8 = 45.60\n",
      "5.70 x  9 = 51.30\n",
      "5.70 x 10 = 57.00\n"
     ]
    }
   ],
   "source": [
    "n = float(input(\"Número: \"))\n",
    "print(\"\\n\".join(f\"{n:.2f} x {i:2} = {n * i:.2f}\" for i in range(11)))\n"
   ]
  },
  {
   "cell_type": "markdown",
   "metadata": {
    "id": "YUF6-VCHOGhN"
   },
   "source": [
    "### Fatorial <br>\n",
    "Caucule o fatorial de um número (ex.: 5! = 120) usando loop e depois usando função recursiva."
   ]
  },
  {
   "cell_type": "code",
   "execution_count": null,
   "metadata": {
    "id": "p2H6IQPoOGhO",
    "outputId": "709a921e-54ec-4173-8208-217de04aa45b"
   },
   "outputs": [
    {
     "name": "stdout",
     "output_type": "stream",
     "text": [
      "5! é igual a 120.\n",
      "5! é igual a 120.\n"
     ]
    }
   ],
   "source": [
    "fator = num = 5\n",
    "fatorial = 1\n",
    "\n",
    "for n in range(num, 1, -1):\n",
    "    fatorial *= n\n",
    "\n",
    "print(f\"{num}! é igual a {fatorial}.\")\n",
    "\n",
    "\n",
    "def fatorial(fator):\n",
    "    if fator:\n",
    "        return fator * fatorial(fator-1)\n",
    "    else:\n",
    "        return 1\n",
    "\n",
    "fator = num = 5\n",
    "print(f\"{num}! é igual a {fatorial(fator)}.\")"
   ]
  },
  {
   "cell_type": "markdown",
   "metadata": {},
   "source": [
    "✅ Pontos fortes\n",
    "\n",
    "Implementa versão iterativa e recursiva do fatorial.\n",
    "\n",
    "Estrutura de loop e recursão corretas.\n",
    "\n",
    "Mensagens claras para o usuário.\n",
    "\n",
    "⚠️ Pontos fracos\n",
    "\n",
    "fator = num = 5 é redundante e confuso.\n",
    "\n",
    "Na versão iterativa, o loop range(num, 1, -1) funciona, mas usar range(2, num+1) é mais natural.\n",
    "\n",
    "Função fatorial e variável fatorial têm o mesmo nome → sombra de variável.\n",
    "\n",
    "Não trata números negativos."
   ]
  },
  {
   "cell_type": "markdown",
   "metadata": {},
   "source": [
    "🔄 Refatoração"
   ]
  },
  {
   "cell_type": "code",
   "execution_count": null,
   "metadata": {},
   "outputs": [
    {
     "name": "stdout",
     "output_type": "stream",
     "text": [
      "5! é igual a 120.\n",
      "5! é igual a 120.\n"
     ]
    }
   ],
   "source": [
    "# Versão iterativa\n",
    "num = 5\n",
    "resultado = 1\n",
    "for n in range(2, num + 1):\n",
    "    resultado *= n\n",
    "print(f\"{num}! é igual a {resultado}.\")\n",
    "\n",
    "# Versão recursiva\n",
    "def fatorial(n: int) -> int:\n",
    "    if n < 2:\n",
    "        return 1\n",
    "    return n * fatorial(n - 1)\n",
    "\n",
    "print(f\"{num}! é igual a {fatorial(num)}.\")\n"
   ]
  },
  {
   "cell_type": "markdown",
   "metadata": {},
   "source": [
    "⚡ Forma alternativa mais eficiente"
   ]
  },
  {
   "cell_type": "code",
   "execution_count": null,
   "metadata": {},
   "outputs": [
    {
     "name": "stdout",
     "output_type": "stream",
     "text": [
      "5! é igual a 120.\n"
     ]
    }
   ],
   "source": [
    "import math\n",
    "num = 5\n",
    "print(f\"{num}! é igual a {math.factorial(num)}\")\n"
   ]
  },
  {
   "cell_type": "markdown",
   "metadata": {
    "id": "3xeXEodmOGhP"
   },
   "source": [
    "### Palíndromo <br>\n",
    "Verifique se uma palavra é palíndromo (ex.: \"arara\", \"radar\")."
   ]
  },
  {
   "cell_type": "code",
   "execution_count": null,
   "metadata": {
    "id": "GE4pgmgOOGhQ",
    "outputId": "8d6e2404-ba4a-43ae-b5c9-677f732938d8"
   },
   "outputs": [
    {
     "name": "stdout",
     "output_type": "stream",
     "text": [
      "cassie não é um políndromo, já que cassie é diferente de eissac.\n"
     ]
    }
   ],
   "source": [
    "palavra = \"cassie\"\n",
    "if palavra.lower() == palavra.lower()[::-1]:\n",
    "    print(f\"{palavra} é um políndromo, já que tanto faz se você começa a ler da esquerda pra direita ou vice-versa.\")\n",
    "else:\n",
    "    print(f\"{palavra} não é um políndromo, já que {palavra} é diferente de {palavra[::-1]}.\")\n"
   ]
  },
  {
   "cell_type": "markdown",
   "metadata": {},
   "source": [
    "✅ Pontos fortes\n",
    "\n",
    "Usa slicing [::-1], que é a forma mais Pythonic de inverter string.\n",
    "\n",
    "Mensagens de saída são bem explicativas.\n",
    "\n",
    "Converte para minúsculas para evitar erro com maiúsculas.\n",
    "\n",
    "⚠️ Pontos fracos\n",
    "\n",
    "Palavra está fixa (\"cassie\") → não pede entrada do usuário.\n",
    "\n",
    "Mensagens longas demais (poderiam ser mais objetivas).\n",
    "\n",
    "Não ignora espaços nem acentos (ex.: \"Ame a ema\" não funcionaria)."
   ]
  },
  {
   "cell_type": "markdown",
   "metadata": {},
   "source": [
    "🔄 Refatoração"
   ]
  },
  {
   "cell_type": "code",
   "execution_count": null,
   "metadata": {},
   "outputs": [],
   "source": [
    "palavra = input(\"Digite uma palavra: \").lower()\n",
    "if palavra == palavra[::-1]:\n",
    "    print(f\"{palavra} é um palíndromo.\")\n",
    "else:\n",
    "    print(f\"{palavra} não é um palíndromo.\")\n"
   ]
  },
  {
   "cell_type": "markdown",
   "metadata": {},
   "source": [
    "⚡ Forma alternativa mais eficiente (considerando frases e acentos)"
   ]
  },
  {
   "cell_type": "code",
   "execution_count": null,
   "metadata": {},
   "outputs": [],
   "source": [
    "import unicodedata\n",
    "\n",
    "def normalizar(txt: str) -> str:\n",
    "    return \"\".join(\n",
    "        c for c in unicodedata.normalize(\"NFKD\", txt.lower())\n",
    "        if c.isalnum() and not unicodedata.combining(c)\n",
    "    )\n",
    "\n",
    "palavra = input(\"Digite uma palavra ou frase: \")\n",
    "texto = normalizar(palavra)\n",
    "print(f\"'{palavra}' é um palíndromo.\" if texto == texto[::-1] else f\"'{palavra}' não é um palíndromo.\")\n"
   ]
  },
  {
   "cell_type": "markdown",
   "metadata": {
    "id": "Abtnha3TOGhR"
   },
   "source": [
    "### Lista sem duplicados <br>\n",
    "Dada uma lista com números repetidos, retorne uma nova lista apenas com os números únicos, preservando a ordem de aparição."
   ]
  },
  {
   "cell_type": "code",
   "execution_count": null,
   "metadata": {
    "id": "1PCCqWw0OGhR",
    "outputId": "5ef16b9d-7617-4099-f947-21a3c0b0c3f2"
   },
   "outputs": [
    {
     "name": "stdout",
     "output_type": "stream",
     "text": [
      "[1, 2, 3, 4, 6, 7, 8]\n"
     ]
    },
    {
     "data": {
      "text/plain": [
       "[1, 2, 3, 1, 4, 2, 6, 7, 2, 8, 7, 8]"
      ]
     },
     "execution_count": 65,
     "metadata": {},
     "output_type": "execute_result"
    }
   ],
   "source": [
    "lista_duplicatas = [1, 2, 3, 1, 4, 2, 6, 7, 2, 8, 7, 8]\n",
    "lista_limpa = lista_duplicatas[::-1]\n",
    "\n",
    "for num in lista_duplicatas:\n",
    "    if lista_limpa.count(num) > 1:\n",
    "        lista_limpa.remove(num)\n",
    "\n",
    "print(lista_limpa[::-1])\n",
    "lista_duplicatas"
   ]
  },
  {
   "cell_type": "markdown",
   "metadata": {},
   "source": [
    "✅ Pontos fortes\n",
    "\n",
    "Resolve o problema apenas com listas (sem recorrer a set logo de cara).\n",
    "\n",
    "Uso criativo de slicing [::-1] para preservar a última ocorrência de cada elemento.\n",
    "\n",
    "Código curto e direto.\n",
    "\n",
    "⚠️ Pontos fracos\n",
    "\n",
    "list.count() dentro do loop é O(n) → o código vira O(n²) (ineficiente para listas grandes).\n",
    "\n",
    "remove() dentro do loop também é custoso (outra busca O(n)).\n",
    "\n",
    "A lógica pode confundir: cria cópia invertida, remove duplicatas, e depois re-inverte."
   ]
  },
  {
   "cell_type": "markdown",
   "metadata": {},
   "source": [
    "🔄 Refatoração (mantendo lógica original, mas mais clara)"
   ]
  },
  {
   "cell_type": "markdown",
   "metadata": {},
   "source": [
    "👉 Aqui não há count() nem remove(), só um not in → já mais eficiente."
   ]
  },
  {
   "cell_type": "code",
   "execution_count": 16,
   "metadata": {},
   "outputs": [
    {
     "name": "stdout",
     "output_type": "stream",
     "text": [
      "[1, 2, 3, 4, 6, 7, 8]\n"
     ]
    }
   ],
   "source": [
    "lista_duplicatas = [1, 2, 3, 1, 4, 2, 6, 7, 2, 8, 7, 8]\n",
    "lista_limpa = []\n",
    "vistos = set()\n",
    "\n",
    "for num in lista_duplicatas:\n",
    "    if num not in vistos:\n",
    "        vistos.add(num)\n",
    "        lista_limpa.append(num)\n",
    "\n",
    "print(lista_limpa)  # [1, 2, 3, 4, 6, 7, 8]\n"
   ]
  },
  {
   "cell_type": "markdown",
   "metadata": {},
   "source": [
    "⚡ Forma alternativa mais eficiente (O(n))"
   ]
  },
  {
   "cell_type": "code",
   "execution_count": 18,
   "metadata": {},
   "outputs": [
    {
     "name": "stdout",
     "output_type": "stream",
     "text": [
      "[1, 2, 3, 4, 6, 7, 8]\n"
     ]
    }
   ],
   "source": [
    "from collections import OrderedDict  # Importa OrderedDict, que preserva a ordem de inserção\n",
    "\n",
    "# Lista original com elementos duplicados\n",
    "lista_duplicatas = [1, 2, 3, 1, 4, 2, 6, 7, 2, 8, 7, 8]\n",
    "\n",
    "# OrderedDict.fromkeys() cria um dicionário com as chaves sendo os elementos da lista\n",
    "# Como dicionário não aceita chaves repetidas, isso remove duplicatas\n",
    "# E como é um OrderedDict, a ordem da primeira ocorrência é preservada\n",
    "lista_limpa = list(OrderedDict.fromkeys(lista_duplicatas))\n",
    "\n",
    "print(lista_limpa)  # Saída: [1, 2, 3, 4, 6, 7, 8]\n"
   ]
  },
  {
   "cell_type": "markdown",
   "metadata": {},
   "source": [
    "✅ Resumo do que acontece:\n",
    "\n",
    "fromkeys(lista_duplicatas) cria chaves únicas.\n",
    "\n",
    "OrderedDict mantém a ordem da primeira aparição.\n",
    "\n",
    "list(...) converte as chaves de volta para uma lista."
   ]
  },
  {
   "cell_type": "markdown",
   "metadata": {
    "id": "qX1wO6BDOGhS"
   },
   "source": [
    "### Números primos <br>\n",
    "Escreva uma função que verifique se um número é primo.<br>\n",
    "Depois, gere todos os primos até 100."
   ]
  },
  {
   "cell_type": "code",
   "execution_count": null,
   "metadata": {
    "id": "GKoEFJiNOGhS",
    "outputId": "6e5288b4-dce7-4439-fab4-d6ee3b584f79"
   },
   "outputs": [
    {
     "name": "stdout",
     "output_type": "stream",
     "text": [
      "39 não é primo.\n",
      "Números primos até 100:\n",
      "2\n",
      "3\n",
      "5\n",
      "7\n",
      "11\n",
      "13\n",
      "17\n",
      "19\n",
      "23\n",
      "29\n",
      "31\n",
      "37\n",
      "41\n",
      "43\n",
      "47\n",
      "53\n",
      "59\n",
      "61\n",
      "67\n",
      "71\n",
      "73\n",
      "79\n",
      "83\n",
      "89\n",
      "97\n"
     ]
    }
   ],
   "source": [
    "num = 39\n",
    "\n",
    "def eh_primo(num):\n",
    "    if num % 2 or num == 2:\n",
    "        for n in range(3, num//2, 2):\n",
    "            if num % n:\n",
    "                continue\n",
    "            else:\n",
    "                return 0\n",
    "    else:\n",
    "        return 0\n",
    "\n",
    "    return 1\n",
    "\n",
    "if eh_primo(num):\n",
    "    print(f\"{num} é primo.\")\n",
    "else:\n",
    "    print(f\"{num} não é primo.\")\n",
    "\n",
    "print(f\"Números primos até 100:\\n2\")\n",
    "for n in range(3, 100, 2):\n",
    "    if eh_primo(n):\n",
    "        print(n)\n",
    "\n"
   ]
  },
  {
   "cell_type": "markdown",
   "metadata": {},
   "source": [
    "Boa! 🎉 Seu código já funciona, mas dá pra deixar a função eh_primo mais clara e eficiente. Vou comentar alguns pontos:\n",
    "\n",
    "🔎 Problemas e detalhes na versão atual\n",
    "\n",
    "if num % 2 or num == 2:\n",
    "\n",
    "Isso funciona, mas pode ser confuso. O caso do 2 pode ser tratado de forma explícita.\n",
    "\n",
    "Além disso, números pares maiores que 2 não precisam ser testados.\n",
    "\n",
    "O for vai até num//2. Isso é desnecessário → basta ir até a raiz quadrada de num.\n",
    "\n",
    "O retorno 0/1 funciona, mas em Python é mais comum usar True/False."
   ]
  },
  {
   "cell_type": "markdown",
   "metadata": {},
   "source": [
    "✅ Versão mais legível e rápida"
   ]
  },
  {
   "cell_type": "markdown",
   "metadata": {},
   "source": [
    "⚡ O que mudou\n",
    "\n",
    "Usa True/False → mais \"Pythonic\".\n",
    "\n",
    "Testa só até √num, muito mais rápido para números grandes.\n",
    "\n",
    "Trata 2 como caso especial e ignora pares direto."
   ]
  },
  {
   "cell_type": "code",
   "execution_count": 13,
   "metadata": {},
   "outputs": [
    {
     "name": "stdout",
     "output_type": "stream",
     "text": [
      "39 não é primo.\n",
      "Números primos até 100:\n",
      "2\n",
      "3\n",
      "5\n",
      "7\n",
      "11\n",
      "13\n",
      "17\n",
      "19\n",
      "23\n",
      "29\n",
      "31\n",
      "37\n",
      "41\n",
      "43\n",
      "47\n",
      "53\n",
      "59\n",
      "61\n",
      "67\n",
      "71\n",
      "73\n",
      "79\n",
      "83\n",
      "89\n",
      "97\n"
     ]
    }
   ],
   "source": [
    "def eh_primo(num):\n",
    "    if num < 2:\n",
    "        return False\n",
    "    if num == 2:\n",
    "        return True\n",
    "    if num % 2 == 0:\n",
    "        return False\n",
    "    \n",
    "    for n in range(3, int(num**0.5) + 1, 2):  # só ímpares até sqrt(num)\n",
    "        if num % n == 0:\n",
    "            return False\n",
    "    return True\n",
    "\n",
    "\n",
    "# Teste\n",
    "num = 39\n",
    "if eh_primo(num):\n",
    "    print(f\"{num} é primo.\")\n",
    "else:\n",
    "    print(f\"{num} não é primo.\")\n",
    "\n",
    "print(\"Números primos até 100:\")\n",
    "for n in range(2, 101):\n",
    "    if eh_primo(n):\n",
    "        print(n)\n"
   ]
  },
  {
   "cell_type": "markdown",
   "metadata": {
    "id": "sDy8DehBOGhT"
   },
   "source": [
    "### Caixa eletrônico <br>\n",
    "Simule um caixa eletrônico: peça um valor interiro e informe a quantidade de cédulas de 100, 50, 20, 10, 5 e 2 que devem ser entregues."
   ]
  },
  {
   "cell_type": "code",
   "execution_count": null,
   "metadata": {
    "id": "EEdtau3BOGhT",
    "outputId": "05b1aa5c-f5f3-4959-ea36-a4694a866bd0"
   },
   "outputs": [
    {
     "name": "stdout",
     "output_type": "stream",
     "text": [
      "Cédula: quantidade\n",
      " R$ 100: 2\n",
      " R$ 50: 1\n",
      " R$ 5: 1\n",
      " R$ 1: 2\n"
     ]
    }
   ],
   "source": [
    "valor = int(input(\"Quanto deseja sacar?\\n\"))\n",
    "cedulas = {100: 0, 50: 0, 20: 0, 10: 0, 5: 0, 1: 0}\n",
    "\n",
    "for cedula in cedulas.keys():\n",
    "    dispensadas = valor // cedula\n",
    "    if dispensadas:\n",
    "        cedulas[cedula] += dispensadas\n",
    "        valor -= cedula * dispensadas\n",
    "\n",
    "print(\"Cédula: quantidade\")\n",
    "for cedula, quantidade in cedulas.items():\n",
    "    if quantidade:\n",
    "        print(f\" R$ {cedula}: {quantidade}\")\n"
   ]
  },
  {
   "cell_type": "markdown",
   "metadata": {},
   "source": [
    "✅ Pontos fortes\n",
    "\n",
    "Lógica correta para distribuir cédulas do maior para o menor valor.\n",
    "\n",
    "Estrutura de dicionário deixa claro quais cédulas são consideradas.\n",
    "\n",
    "Imprime apenas cédulas usadas.\n",
    "\n",
    "⚠️ Pontos fracos\n",
    "\n",
    "Não valida se a entrada é número positivo.\n",
    "\n",
    "Não lida com valores não inteiros.\n",
    "\n",
    "Pode ser simplificado usando apenas divisões inteiras e divmod()."
   ]
  },
  {
   "cell_type": "markdown",
   "metadata": {},
   "source": [
    "🔄 Refatoração"
   ]
  },
  {
   "cell_type": "code",
   "execution_count": null,
   "metadata": {},
   "outputs": [],
   "source": [
    "valor = int(input(\"Quanto deseja sacar? \"))\n",
    "\n",
    "if valor <= 0:\n",
    "    print(\"Digite um valor positivo.\")\n",
    "else:\n",
    "    cedulas = {100: 0, 50: 0, 20: 0, 10: 0, 5: 0, 1: 0}\n",
    "    for cedula in cedulas:\n",
    "        cedulas[cedula], valor = divmod(valor, cedula)\n",
    "\n",
    "    print(\"Cédula: quantidade\")\n",
    "    for cedula, quantidade in cedulas.items():\n",
    "        if quantidade:\n",
    "            print(f\"R$ {cedula}: {quantidade}\")\n"
   ]
  },
  {
   "cell_type": "markdown",
   "metadata": {},
   "source": [
    "⚡ Forma alternativa mais eficiente"
   ]
  },
  {
   "cell_type": "code",
   "execution_count": null,
   "metadata": {},
   "outputs": [],
   "source": [
    "valor = int(input(\"Quanto deseja sacar? \"))\n",
    "for cedula in [100, 50, 20, 10, 5, 1]:\n",
    "    qtd, valor = divmod(valor, cedula)\n",
    "    if qtd:\n",
    "        print(f\"R$ {cedula}: {qtd}\")\n"
   ]
  },
  {
   "cell_type": "markdown",
   "metadata": {
    "id": "1tg_MM_MOGhU"
   },
   "source": [
    "### Jogo da forca <br>\n",
    "Implemente uma versão simplificada do jogo da forca, escolhendo uma palavra fixa (ex.: \"python\") e deixando o usuário adivinhar letra por letra"
   ]
  },
  {
   "cell_type": "code",
   "execution_count": null,
   "metadata": {
    "colab": {
     "base_uri": "https://localhost:8080/"
    },
    "executionInfo": {
     "elapsed": 19593,
     "status": "ok",
     "timestamp": 1756497115390,
     "user": {
      "displayName": "Cassandra Rios",
      "userId": "11009432517828146356"
     },
     "user_tz": 180
    },
    "id": "4pUPWKFTOGhV",
    "outputId": "37a83b91-facc-49b0-9223-1f825962b39b"
   },
   "outputs": [
    {
     "name": "stdout",
     "output_type": "stream",
     "text": [
      "Jogo da forca\n",
      "A palavra tem 6 letras e você tem 10 tentativas.\n",
      "\n",
      "_ _ _ _ _ _\n",
      "\n",
      "Sim, temos essa letra na palavra:   _ _ _ _ _\n",
      "\n",
      "Sim, temos essa letra na palavra:   y _ _ _ _\n"
     ]
    }
   ],
   "source": [
    "palavra = \"python\"\n",
    "tamanho_palavra = len(palavra)\n",
    "forca = (\"_ \" * tamanho_palavra).split()\n",
    "forca_ = \" \".join(c for c in forca)\n",
    "conseguiu = False\n",
    "\n",
    "print(f\"Jogo da forca\\nA palavra tem {tamanho_palavra} letras e você tem 10 tentativas.\")\n",
    "\n",
    "for i in range(1, 11):\n",
    "    letra = input(f\"\\n{i}a tentativa\\nDigite uma letra:\\n\").lower().strip()\n",
    "    if letra in palavra:\n",
    "        forca[palavra.index(letra)] = letra\n",
    "        print(\"\\nSim, temos essa letra na palavra: \", (\" \".join(c for c in forca)))\n",
    "\n",
    "    if (\"\".join(c for c in forca)) == palavra:\n",
    "        print(\"\\nParabéns, você conseguiu!\")\n",
    "        break\n",
    "    elif i == 10:\n",
    "      print(\"\\nNúmero de tentativas esgotado... Não foi dessa vez.\")\n"
   ]
  },
  {
   "cell_type": "markdown",
   "metadata": {},
   "source": [
    "✅ Pontos fortes\n",
    "\n",
    "Jogo funcional com limite de tentativas.\n",
    "\n",
    "Mensagens claras e feedback a cada letra.\n",
    "\n",
    "Usa lista para representar o progresso do jogador.\n",
    "\n",
    "⚠️ Pontos fracos\n",
    "\n",
    "palavra.index(letra) só substitui a primeira ocorrência → letras repetidas não aparecem todas.\n",
    "\n",
    "Variável forca_ é desnecessária.\n",
    "\n",
    "Não valida se o jogador digitou apenas uma letra.\n",
    "\n",
    "Código pouco eficiente para palavras grandes ou com muitas letras repetidas."
   ]
  },
  {
   "cell_type": "markdown",
   "metadata": {},
   "source": [
    "🔄 Refatoração"
   ]
  },
  {
   "cell_type": "code",
   "execution_count": 19,
   "metadata": {},
   "outputs": [
    {
     "name": "stdout",
     "output_type": "stream",
     "text": [
      "Jogo da forca\n",
      "A palavra tem 6 letras e você tem 10 tentativas.\n",
      "Letra não encontrada.\n",
      "Letra não encontrada.\n",
      "Letra não encontrada.\n",
      "Sim, temos essa letra na palavra:  _ _ _ _ o _\n",
      "Letra não encontrada.\n",
      "Sim, temos essa letra na palavra:  p _ _ _ o _\n",
      "Sim, temos essa letra na palavra:  p y _ _ o _\n",
      "Sim, temos essa letra na palavra:  p y t _ o _\n",
      "Sim, temos essa letra na palavra:  p y t h o _\n",
      "Sim, temos essa letra na palavra:  p y t h o n\n",
      "\n",
      "Parabéns, você conseguiu!\n"
     ]
    }
   ],
   "source": [
    "palavra = \"python\"\n",
    "forca = [\"_\"] * len(palavra)\n",
    "tentativas = 10\n",
    "\n",
    "print(f\"Jogo da forca\\nA palavra tem {len(palavra)} letras e você tem {tentativas} tentativas.\")\n",
    "\n",
    "for i in range(1, tentativas + 1):\n",
    "    letra = input(f\"\\n{i}ª tentativa\\nDigite uma letra: \").lower().strip()\n",
    "    if len(letra) != 1:\n",
    "        print(\"Digite apenas uma letra.\")\n",
    "        continue\n",
    "    if letra in palavra:\n",
    "        for idx, char in enumerate(palavra):\n",
    "            if char == letra:\n",
    "                forca[idx] = letra\n",
    "        print(\"Sim, temos essa letra na palavra: \", \" \".join(forca))\n",
    "    else:\n",
    "        print(\"Letra não encontrada.\")\n",
    "    \n",
    "    if \"\".join(forca) == palavra:\n",
    "        print(\"\\nParabéns, você conseguiu!\")\n",
    "        break\n",
    "    elif i == tentativas:\n",
    "        print(f\"\\nNúmero de tentativas esgotado... Não foi dessa vez. A palavra era '{palavra}'.\")\n"
   ]
  },
  {
   "cell_type": "markdown",
   "metadata": {},
   "source": [
    "⚡ Forma alternativa mais eficiente"
   ]
  },
  {
   "cell_type": "code",
   "execution_count": 20,
   "metadata": {},
   "outputs": [
    {
     "name": "stdout",
     "output_type": "stream",
     "text": [
      "_ _ _ _ _ _\n",
      "_ _ _ _ _ _\n",
      "_ _ _ _ _ _\n",
      "_ _ _ _ _ _\n",
      "_ _ _ _ _ _\n",
      "_ y _ _ _ _\n",
      "_ y _ _ o _\n",
      "p y _ _ o _\n",
      "p y t _ o _\n",
      "p y t h o _\n",
      "Fim de jogo. A palavra era 'python'.\n"
     ]
    }
   ],
   "source": [
    "palavra = \"python\"\n",
    "forca = [\"_\"] * len(palavra)\n",
    "tentativas = 10\n",
    "usadas = set()\n",
    "\n",
    "while tentativas > 0 and \"_\" in forca:\n",
    "    letra = input(f\"Tentativas restantes: {tentativas}. Digite uma letra: \").lower().strip()\n",
    "    if len(letra) != 1 or letra in usadas:\n",
    "        continue\n",
    "    usadas.add(letra)\n",
    "    for idx, char in enumerate(palavra):\n",
    "        if char == letra:\n",
    "            forca[idx] = letra\n",
    "    print(\" \".join(forca))\n",
    "    if \"_\" not in forca:\n",
    "        break\n",
    "    tentativas -= 1\n",
    "\n",
    "print(\"Parabéns!\" if \"_\" not in forca else f\"Fim de jogo. A palavra era '{palavra}'.\")\n"
   ]
  }
 ],
 "metadata": {
  "colab": {
   "provenance": []
  },
  "kernelspec": {
   "display_name": "Python 3",
   "language": "python",
   "name": "python3"
  },
  "language_info": {
   "codemirror_mode": {
    "name": "ipython",
    "version": 3
   },
   "file_extension": ".py",
   "mimetype": "text/x-python",
   "name": "python",
   "nbconvert_exporter": "python",
   "pygments_lexer": "ipython3",
   "version": "3.13.5"
  }
 },
 "nbformat": 4,
 "nbformat_minor": 0
}
